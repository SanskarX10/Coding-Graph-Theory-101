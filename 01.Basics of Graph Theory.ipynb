{
 "cells": [
  {
   "cell_type": "markdown",
   "metadata": {},
   "source": [
    "# Coding Graph Theory 101\n",
    "##### All you need to know + algo implementation "
   ]
  },
  {
   "cell_type": "markdown",
   "metadata": {},
   "source": [
    "I often wonder how many people remain untouched and unaware about how a computer science / math topic is the building block behind many man made technological wonders . We interact with few of them on a regular basis and some are parts of our daily routine like social media to subway networks or rail routes .\n",
    "\n",
    "In this series of notebooks, I will try to make you guys familiar with some of the astonishing graph theory algorithms , along with their implementations in Python - 3, provide a bit of theory and learning resources . \n",
    "\n",
    "So with all this in mind , Let’s jump right in .\n",
    "\n",
    "<img src=\"img/01_meme.jpg\" width=\"250\"/>\n",
    "\n",
    "This is not me , i promise :P .\n"
   ]
  },
  {
   "cell_type": "markdown",
   "metadata": {},
   "source": [
    "<i>This notebook is going to be an introduction to graph theory and will be more theory focused.</i>\n",
    "\n",
    "# Notebook 1 : Basics of Graph Theory\n",
    "\n",
    "## Graph\n",
    "\n",
    "A Graph is a data structure consisting of vertices and edges. The theory associated with graph is called graph theory\n",
    "Graph consists of vertices (also called as nodes ) that are connected by edges (also called arcs).<br>\n",
    "With graphs, we don't have any more notion of parents and children, and we allow cycles. There are no roots in a graph\n",
    "\n",
    "\n",
    "few common term related to graphs will prove useful later on - \n",
    "<ul>\n",
    "<li>When two vertices are connected by an edge, they are called 'Neighbours'</li>\n",
    "<li>The 'Degree' of a node is the number of other nodes that it is connected to</li>\n",
    "<li>A 'Loop' is an edge that connects a node to itself</li>\n",
    "<li>A 'Path' is a sequence of nodes that are connected by edges</li>\n",
    "<li>A 'Cycle' is a closed path, i.e. a path that starts and ends at the same node (and no node is visited more than once)</li>\n",
    "</ul>\n",
    "\n",
    "<img src=\"img/01_graph_example.png\" width=\"350\"/>\n"
   ]
  },
  {
   "cell_type": "markdown",
   "metadata": {},
   "source": [
    "## Types of Graphs\n",
    "\n",
    "### Connected Graphs:\n",
    "\n",
    "A graph is said to be connected if there is a path between connecting every pair of nodes or vertices.\n",
    "In other words, a graph G is said to be connected if there is at least one path between every two vertices in G\n",
    "\n",
    "\n",
    "### Disconnected Graphs:\n",
    "\n",
    "Graphs can be connected and disconnected. This means that the graph is constructed out of two or more sub-graphs without a path between these components.\n",
    "In other words, a graph G is said to be disconnected if G has at least one pair of vertices between which there is no path.\n",
    "\n",
    "<img src=\"img/01_con_discon.png\" width=\"450\"/>\n",
    "\n",
    "\n",
    "### Subgraph :\n",
    "\n",
    "Any graph would be called as a subgraph of any graph G if it's vertices and edges are derived from graph G.\n",
    "\n",
    "<img src=\"img/01_subgraph.png\" width=\"450\"/>\n",
    "\n",
    "\n",
    "### Directed Graph:\n",
    "\n",
    "A directed graph, also called a digraph, is a graph in which the edges have a direction. This is usually indicated with an arrow on the edge \n",
    "In a directed graph, we represent an edge from i to j as pair(i,j).  The formal description of a directed graph G is (V,E) where V is the set of vertices and E is the set of edges.\n",
    "\n",
    "\n",
    "### Undirected Graph:\n",
    "\n",
    "As clear to its name,It is collection of vertices and edges that are connected together without any direction.\n",
    "\n",
    "<img src=\"img/01_dir_undir.png\" width=\"350\"/>\n",
    "\n",
    "\n",
    "### Weighted Graph:\n",
    "\n",
    "A graph is said to be weighted graph if some real number is assigned on every edge of a graph.<br>\n",
    "the weight may be some value, any variable and so on.\n",
    "\n",
    "\n",
    "### Unweighted Graph:\n",
    "\n",
    "If we care only if two nodes are connected or not, we call such a graph unweighted. <br>\n",
    "The edges have no weight assigned to them.\n",
    "\n",
    "<img src=\"img/01_weigh.png\" width=\"550\"/>\n",
    "\n",
    "\n",
    "### Cyclic Graph\n",
    "\n",
    "For a graph to be called a cyclic graph, it should consist of at least one cycle. \n",
    "If a graph has a minimum of one cycle present, it is called a cyclic graph.\n",
    "\n",
    "\n",
    "### Acyclic Graph\n",
    "\n",
    "A graph is called an acyclic graph if zero cycles are present, and an acyclic graph is the complete opposite of a cyclic graph.\n",
    "\n",
    "<img src=\"img/01_cyc.png\" width=\"350\"/>\n"
   ]
  },
  {
   "cell_type": "markdown",
   "metadata": {},
   "source": [
    "as i mentioned above that first notebook is full of essential theory . so with that in mind let's move on to some special type of graphs\n",
    "\n",
    "<i>“Begin at the beginning,\" the King said, very gravely, \"and go on till you come to the end: then stop.” ~ Lewis Carroll</i>"
   ]
  },
  {
   "cell_type": "markdown",
   "metadata": {},
   "source": [
    "## Some special types of Graphs "
   ]
  },
  {
   "cell_type": "markdown",
   "metadata": {},
   "source": [
    "### Tree: \n",
    "\n",
    "As the saying goes ' Every Tree is a Graph but not every Graph is a Tree '.\n",
    "Trees are graphs that do not contain even a single cycle . It is a connected acyclic graph.\n",
    "\n",
    "Tree properties goes as follows:\n",
    "\n",
    "1. The elements of trees are called their nodes / vertices and the edges of the tree are called branches.\n",
    "2. Nodes with same parent are called sibling\n",
    "3. Node without children is called leaf\n",
    "4. A tree with n nodes / vertices has n-1 edges.\n",
    "5. If a connected graph with n vertices has n-1 edges then it is tree.\n",
    "6. The degree of a leaf node must be 0\n",
    "\n",
    "\n",
    "<img src=\"img/01_r_tree.png\" width=\"450\"/>\n",
    "\n",
    "\n",
    "### Rooted Tree:\n",
    "\n",
    "A rooted tree is a tree in which one vertex has been designated the root\n",
    "The root serves as a point of reference for other vertices in the tree.\n",
    "In diagrams, we usually keep the root at the top and list other vertices below it.\n",
    "\n",
    "* Branch is just another name given to edges of the tree.\n",
    "* Depth of a vertex is the number of branches in the path from root to the vertex. So depth of the root itself is zero.\n",
    "* Level of a vertex is number of vertex in the path from root to the vertex. This is just one more than the depth of the vertex. Level of root is 1.\n",
    "\n",
    "<img src=\"img/01_tree.gif\" width=\"450\"/>\n",
    "\n",
    "\n",
    "### Directed Acylic Graph :\n",
    "\n",
    "A directed acyclic graph (DAG) refers to a directed graph which has no directed cycles.\n",
    "In a directed graph or a digraph, each edge is associated with a direction from a start vertex to an end vertex. If we traverse along the direction of the edges and we find that no closed loops are formed along any path, we say that there are no directed cycles. The graph formed is a directed acyclic graph.\n",
    "\n",
    "<img src=\"img/01_dag.png\" width=\"350\"/>\n",
    "\n",
    "\n",
    "### Bipartite Graph :\n",
    "\n",
    "A bipartite graph also called a bi-graph, is a set of graph vertices, i.e, points where multiple lines meet, decomposed into two disjoint sets, meaning they have no element in common, such that no two graph vertices within the same set are adjacent.\n",
    "\n",
    "Mathematically , A graph G=(V, E) is called a bipartite graph if its vertices V can be partitioned into two subsets V1 and V2 such that each edge of G connects a vertex of V1 to a vertex V2. It is denoted by Kmn, where m and n are the numbers of vertices in V1 and V2 respectively.\n",
    "\n",
    "<img src=\"img/01_bpt.png\" width=\"550\"/>\n",
    "\n"
   ]
  },
  {
   "cell_type": "markdown",
   "metadata": {},
   "source": [
    "## How to Represent Graphs to Computers ?"
   ]
  },
  {
   "cell_type": "markdown",
   "metadata": {},
   "source": [
    "Now , after all this reading as a computer science student , you must be thinking that how the f*** we show that thing to a computer or feed it to the compiler . Don't worry because this last section is all about representation.\n",
    "\n",
    "### Adjacency Matrix\n",
    "\n",
    "An adjacency matrix is a way of representing a graph as a matrix of booleans (0's and 1's). A finite graph can be represented in the form of a square matrix on a computer, where the boolean value of the matrix indicates if there is a direct path between two vertices\n",
    "\n",
    "<img src=\"img/01_adc_mat.png\" width=\"350\"/>\n",
    "\n",
    "##### Adjacency Matrix Complexity : \n",
    "Space: O(N * N)\n",
    "\n",
    "Check if there is an edge between nodes U and V: O(1)\n",
    "\n",
    "Find all edges from a node: O(N)"
   ]
  },
  {
   "cell_type": "code",
   "execution_count": null,
   "metadata": {},
   "outputs": [],
   "source": [
    "#representing this graph as an adjacency matrix\n",
    "\n",
    "adj_mat = [[0, 1, 0, 1],  # representing connections of A to other nodes\n",
    "           [1, 0, 1, 1],  # representing connections of B to other nodes\n",
    "           [0, 1, 0, 0],  # representing connections of C to other nodes\n",
    "           [1, 1, 0, 0]]  # representing connections of D to other nodes\n",
    "\n",
    "# in case of directed graph , add 1 only if direction exists to that node\n",
    "# in case of weighted graph, replace 1 with the respective weight on the connecting edge"
   ]
  },
  {
   "cell_type": "markdown",
   "metadata": {},
   "source": [
    "### Adjacency List\n",
    "With the help of an adjacency list, we can find for a particular node all the nodes connected to it\n",
    "\n",
    "This form of representation is efficient in terms of space because we only have to store the edges for a given node.\n",
    "In python, we can use dictionaries to store an adjacency list. The dictionary’s keys will be the nodes, and their values will be the edges for each node\n",
    "\n",
    "<img src=\"img/01_adc_list.png\" width=\"350\"/>\n",
    "\n",
    "##### Adjacency List Complexity : \n",
    "Space: O(N + M)\n",
    "\n",
    "Check if there is an edge between nodes U and V: O(degree(V))\n",
    "\n",
    "Find all edges from a node V: O(degree(V))"
   ]
  },
  {
   "cell_type": "code",
   "execution_count": 1,
   "metadata": {},
   "outputs": [],
   "source": [
    "#representing this graph as an adjacency list:\n",
    "\n",
    "adj_list = {0 : [(4, 1), (3, 5), (1, 2)], # nodes connected to 0 with weights\n",
    "            1 : [(0, 2), (2, 2)],         # nodes connected to 1 with weights\n",
    "            2 : [(1, 2), (3, 4)],         # nodes connected to 2 with weights\n",
    "            3 : [(2, 4), (0, 5)],         # nodes connected to 3 with weights\n",
    "            4 : [(0, 1)]}                 # nodes connected to 4 with weights"
   ]
  },
  {
   "cell_type": "markdown",
   "metadata": {},
   "source": [
    "Adjacency matrices are helpful when we need to quickly check if two nodes have a direct edge or not. However, the main disadvantage is its large memory complexity. The adjacency matrix is most helpful in cases where the graph doesn’t contain a large number of nodes. Also, when the graph is almost complete (every node is connected to almost all the other nodes), using adjacency matrices might be a good solution.\n",
    "\n",
    "Adjacency lists, on the other hand, are a great option when we need to continuously access all the neighbors of some node u. In that case, we’ll only be iterating over the needed nodes. Adjacency list limitations show when we need to check if two nodes have a direct edge or not.\n",
    "\n",
    "Before ending this, i have one bonus thing to share"
   ]
  },
  {
   "cell_type": "markdown",
   "metadata": {},
   "source": [
    "### Bonus :  Strongly Connected Components \n",
    "  * Connectivity in an undirected graph means that every vertex can reach every other vertex via any path. If the graph is not connected the graph can be broken down into Connected Components.\n",
    "  * A strongly connected component is the portion of a directed graph in which there is a path from each vertex to another vertex. It is applicable only on a directed graph.\n",
    "  *  Directed graph is strongly connected if there is a directed path from any vertex to every other vertex. This is same as connectivity in an undirected graph, the only difference being strong connectivity applies to directed graphs and there should be directed paths instead of just paths.\n",
    "  * Similar to connected components, a directed graph can be broken down into Strongly Connected Components.\n",
    "  \n",
    "  <img src=\"img/01_scc.png\" width=\"350\"/>\n",
    "  \n",
    "  The strongly connected components of this graph will be\n",
    "  \n",
    "  <img src=\"img/01_scc_1.png\" width=\"350\"/>"
   ]
  },
  {
   "cell_type": "markdown",
   "metadata": {},
   "source": [
    "##### Thanks for making it to the end of the notebook . It was a little theory intensive but with the next one we will be doing a lot of code with jumping into graph traversal algorithms and then moving to tree algorithms\n",
    "\n",
    "### Happy Learning !!!"
   ]
  },
  {
   "cell_type": "markdown",
   "metadata": {},
   "source": [
    "Few resources to help you : \n",
    "\n",
    "[Intro to Graph theory by William fiset](https://www.youtube.com/watch?v=eQA-m22wjTQ&list=PLDV1Zeh2NRsDGO4--qE8yH72HFL1Km93P&index=2)\n",
    "\n",
    "[A CS perspective of Graph Theory and helpful for next notebook](https://www.youtube.com/watch?v=LFKZLXVO-Dg)"
   ]
  },
  {
   "cell_type": "code",
   "execution_count": null,
   "metadata": {},
   "outputs": [],
   "source": []
  }
 ],
 "metadata": {
  "kernelspec": {
   "display_name": "Python 3",
   "language": "python",
   "name": "python3"
  },
  "language_info": {
   "codemirror_mode": {
    "name": "ipython",
    "version": 3
   },
   "file_extension": ".py",
   "mimetype": "text/x-python",
   "name": "python",
   "nbconvert_exporter": "python",
   "pygments_lexer": "ipython3",
   "version": "3.8.5"
  }
 },
 "nbformat": 4,
 "nbformat_minor": 4
}
